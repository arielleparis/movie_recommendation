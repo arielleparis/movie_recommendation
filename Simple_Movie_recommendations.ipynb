{
  "nbformat": 4,
  "nbformat_minor": 0,
  "metadata": {
    "colab": {
      "name": "Simple Movie recommendations.ipynb",
      "provenance": [],
      "authorship_tag": "ABX9TyP8xpEvzSCF9L0GV84d9MOl",
      "include_colab_link": true
    },
    "kernelspec": {
      "name": "python3",
      "display_name": "Python 3"
    },
    "language_info": {
      "name": "python"
    }
  },
  "cells": [
    {
      "cell_type": "markdown",
      "metadata": {
        "id": "view-in-github",
        "colab_type": "text"
      },
      "source": [
        "<a href=\"https://colab.research.google.com/github/ariellebriscoe8/movie_recommendation/blob/main/Simple_Movie_recommendations.ipynb\" target=\"_parent\"><img src=\"https://colab.research.google.com/assets/colab-badge.svg\" alt=\"Open In Colab\"/></a>"
      ]
    },
    {
      "cell_type": "code",
      "metadata": {
        "id": "wijlWCIEiHUj"
      },
      "source": [
        "#Import the libraries\n",
        "import pandas as pd \n",
        "import numpy as np \n",
        "from sklearn.metrics.pairwise import cosine_similarity\n",
        "from sklearn.feature_extraction.text import CountVectorizer"
      ],
      "execution_count": null,
      "outputs": []
    },
    {
      "cell_type": "code",
      "metadata": {
        "id": "c92H6H1ZiYZz"
      },
      "source": [
        "#Load Data\n",
        "from google.colab import files\n",
        "uploaded = files.upload()"
      ],
      "execution_count": null,
      "outputs": []
    },
    {
      "cell_type": "code",
      "metadata": {
        "id": "aQA-270WiYdr"
      },
      "source": [
        "#Store the data \n",
        "df = pd.read_csv('movie_data.csv')\n",
        "#show the first 3 rows of data\n",
        "df.head(3)"
      ],
      "execution_count": null,
      "outputs": []
    },
    {
      "cell_type": "code",
      "metadata": {
        "id": "19c2caxwiYjC"
      },
      "source": [
        "#Get a count of the number of rows/movies in the data set and the number of columns\n",
        "df.shape"
      ],
      "execution_count": null,
      "outputs": []
    },
    {
      "cell_type": "code",
      "metadata": {
        "id": "QfMaDCN3iZL2"
      },
      "source": [
        "#Create a list of important columns for the recommendation engine \n",
        "columns = ['Actors', 'Director', 'Genre', 'Title']"
      ],
      "execution_count": null,
      "outputs": []
    },
    {
      "cell_type": "code",
      "metadata": {
        "id": "Y0IyDHFKiZSe"
      },
      "source": [
        "#Show the data\n",
        "df[columns].head(3)"
      ],
      "execution_count": null,
      "outputs": []
    },
    {
      "cell_type": "code",
      "metadata": {
        "id": "CJ_GjreKiaDp"
      },
      "source": [
        "#Checking for any missing values in the important columns \n",
        "df[columns].isull().values.any()"
      ],
      "execution_count": null,
      "outputs": []
    },
    {
      "cell_type": "code",
      "metadata": {
        "id": "ajrk7EPbiaKV"
      },
      "source": [
        "#Create a function to combine  the values of the important columns into a single string \n",
        "def get_important_features(data):\n",
        "  important_features=[]\n",
        "  for i in range (0, data.shape[0]):\n",
        "    important_features.append(data['Actors'][i]+''+ data ['Director'][i] + '' + \n",
        "                              data['Genre']+ '' + data['Title'][i])\n",
        "  return important_features"
      ],
      "execution_count": null,
      "outputs": []
    },
    {
      "cell_type": "code",
      "metadata": {
        "id": "TwaidwtbmDEX"
      },
      "source": [
        "#Create a column to hold the combined strings\n",
        "df['important_features']= get_important_features(df)\n",
        "\n",
        "#Show data\n",
        "df.head(3)"
      ],
      "execution_count": null,
      "outputs": []
    },
    {
      "cell_type": "code",
      "metadata": {
        "id": "ZS_gk8TImDQR"
      },
      "source": [
        "#Convert the text matrix to tokens\n",
        "cm = CountVectorizer().fit_transform(df['important_features'])"
      ],
      "execution_count": null,
      "outputs": []
    },
    {
      "cell_type": "code",
      "metadata": {
        "id": "0TolNUMymDY3"
      },
      "source": [
        "#Get cosine similarity matrix from count matrix \n",
        "cs = cosine_similarity(cm)\n",
        "\n",
        "#print the cosine similarity matrix \n",
        "print(cs)"
      ],
      "execution_count": null,
      "outputs": []
    },
    {
      "cell_type": "code",
      "metadata": {
        "id": "KrnRpHC1mDgn"
      },
      "source": [
        "#Get the shape of the cosine similarity matrix\n",
        "cs.shape"
      ],
      "execution_count": null,
      "outputs": []
    },
    {
      "cell_type": "code",
      "metadata": {
        "id": "kSiQLoPjmDqu"
      },
      "source": [
        "#Get the title of the movie that the user likes\n",
        "title = 'The Amazing Spider-Man'\n",
        "\n",
        "#Find the movies id\n",
        "movies_id = df[df.Title == title]['Movie_id'].values[0]"
      ],
      "execution_count": null,
      "outputs": []
    },
    {
      "cell_type": "code",
      "metadata": {
        "id": "plsP0dAvmDuk"
      },
      "source": [
        "#Create a list of enumerations for the similarity score \n",
        "scores = list(enumerate(cs[movie_id]))"
      ],
      "execution_count": null,
      "outputs": []
    },
    {
      "cell_type": "code",
      "metadata": {
        "id": "mZGU404ropB_"
      },
      "source": [
        "#Sort the list \n",
        "sorted_scores = sorted(scores,key = lamda x:x[1], reverse = True)\n",
        "sorted_scores = sorted_scores[1:]"
      ],
      "execution_count": null,
      "outputs": []
    },
    {
      "cell_type": "code",
      "metadata": {
        "id": "jr1h2qBPopPJ"
      },
      "source": [
        "#Print the sorted scores\n",
        "print(sorted_score)"
      ],
      "execution_count": null,
      "outputs": []
    },
    {
      "cell_type": "code",
      "metadata": {
        "id": "5vR9yF6OopY1"
      },
      "source": [
        "#Create a loop to print 7 similar movies\n",
        "j = 0\n",
        "print('The 7 most recommended movies to', title, 'are:\\n')\n",
        "for item in sorted_scores:\n",
        "  movie_title = df[df.Movie_id == item[0]]['Title'].values[0]\n",
        "  print (j+1, movie_title)\n",
        "  j = j+1\n",
        "  if j > 6:\n",
        "    break"
      ],
      "execution_count": null,
      "outputs": []
    }
  ]
}